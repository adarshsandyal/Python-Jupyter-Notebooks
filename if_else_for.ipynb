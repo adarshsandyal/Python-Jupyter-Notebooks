{
  "nbformat": 4,
  "nbformat_minor": 0,
  "metadata": {
    "colab": {
      "provenance": [],
      "authorship_tag": "ABX9TyPKl+pSVktMrLmPaUnpFQQN",
      "include_colab_link": true
    },
    "kernelspec": {
      "name": "python3",
      "display_name": "Python 3"
    },
    "language_info": {
      "name": "python"
    }
  },
  "cells": [
    {
      "cell_type": "markdown",
      "metadata": {
        "id": "view-in-github",
        "colab_type": "text"
      },
      "source": [
        "<a href=\"https://colab.research.google.com/github/adarshsandyal/Python-Jupyter-Notebooks/blob/main/if_else_for.ipynb\" target=\"_parent\"><img src=\"https://colab.research.google.com/assets/colab-badge.svg\" alt=\"Open In Colab\"/></a>"
      ]
    },
    {
      "cell_type": "code",
      "execution_count": null,
      "metadata": {
        "id": "2cl3fXAUjENW"
      },
      "outputs": [],
      "source": [
        "if 24<15:\n",
        "  print(\"True\")"
      ]
    },
    {
      "cell_type": "markdown",
      "source": [
        "for..... else:\n",
        "\n",
        "else works after completing the for loop, otherwise its not going to work\n"
      ],
      "metadata": {
        "id": "k5xqINvsILMf"
      }
    },
    {
      "cell_type": "code",
      "source": [],
      "metadata": {
        "id": "c2Fhjk5SIKAK"
      },
      "execution_count": null,
      "outputs": []
    },
    {
      "cell_type": "code",
      "source": [
        "l = ['name', 'emailid', 'phone', 'address']\n",
        "for i in l :\n",
        "  if i == 'emailid':\n",
        "    break\n",
        "  print(i)\n",
        "else:\n",
        "  print(\"check your statement\")"
      ],
      "metadata": {
        "colab": {
          "base_uri": "https://localhost:8080/"
        },
        "id": "pF6aq6lRIfnc",
        "outputId": "0b17c0db-7350-42d1-a50a-2b886be0888c"
      },
      "execution_count": null,
      "outputs": [
        {
          "output_type": "stream",
          "name": "stdout",
          "text": [
            "name\n"
          ]
        }
      ]
    },
    {
      "cell_type": "code",
      "source": [
        "s= \"ADARSH\"\n",
        "for i in s:\n",
        "  if i =='H':\n",
        "    break\n",
        "else:\n",
        "  print(\"Don't execute until it prints my name\")"
      ],
      "metadata": {
        "id": "LInJ5XD0KfOn"
      },
      "execution_count": null,
      "outputs": []
    },
    {
      "cell_type": "markdown",
      "source": [
        "while\n",
        "\n",
        "execute until its true"
      ],
      "metadata": {
        "id": "rt2jm94QLkjC"
      }
    },
    {
      "cell_type": "code",
      "source": [
        "a = 1\n",
        "while a<7:\n",
        "  print(a)\n",
        "  a= a+1"
      ],
      "metadata": {
        "colab": {
          "base_uri": "https://localhost:8080/"
        },
        "id": "aI2qdo1RMB5n",
        "outputId": "6ad7468e-5013-4702-fc17-27deb3666db0"
      },
      "execution_count": null,
      "outputs": [
        {
          "output_type": "stream",
          "name": "stdout",
          "text": [
            "1\n",
            "2\n",
            "3\n",
            "4\n",
            "5\n",
            "6\n"
          ]
        }
      ]
    },
    {
      "cell_type": "code",
      "source": [
        "a=1\n",
        "while a<5:\n",
        "  print(a)\n",
        "  if a == 4:\n",
        "    break\n",
        "  a+=1"
      ],
      "metadata": {
        "colab": {
          "base_uri": "https://localhost:8080/"
        },
        "id": "f0MZYMVcNlHb",
        "outputId": "28c3b445-98e9-4917-e62b-dcd9163f2839"
      },
      "execution_count": null,
      "outputs": [
        {
          "output_type": "stream",
          "name": "stdout",
          "text": [
            "1\n",
            "2\n",
            "3\n",
            "4\n"
          ]
        }
      ]
    },
    {
      "cell_type": "markdown",
      "source": [
        "continue\n",
        "skips back to the loop\n",
        "contiue may create an infinite loop if increment statement is after it"
      ],
      "metadata": {
        "id": "khIjNyclPQxP"
      }
    },
    {
      "cell_type": "code",
      "source": [
        "a =1\n",
        "while a<5:\n",
        "  print(a)\n",
        "  a = a+1\n",
        "  if a==4:\n",
        "    continue"
      ],
      "metadata": {
        "colab": {
          "base_uri": "https://localhost:8080/"
        },
        "id": "mw9miME9N0ZK",
        "outputId": "87e1aef4-ca63-4d67-95b1-79832efae7cb"
      },
      "execution_count": null,
      "outputs": [
        {
          "output_type": "stream",
          "name": "stdout",
          "text": [
            "1\n",
            "2\n",
            "3\n",
            "4\n"
          ]
        }
      ]
    },
    {
      "cell_type": "code",
      "source": [
        "list(range(8, 20, 2))\n",
        "\n"
      ],
      "metadata": {
        "colab": {
          "base_uri": "https://localhost:8080/"
        },
        "id": "l2ivcvexdwHX",
        "outputId": "526703a3-e7b8-480b-ef9b-dfe73bbe84d9"
      },
      "execution_count": null,
      "outputs": [
        {
          "output_type": "execute_result",
          "data": {
            "text/plain": [
              "[8, 10, 12, 14, 16, 18]"
            ]
          },
          "metadata": {},
          "execution_count": 44
        }
      ]
    },
    {
      "cell_type": "code",
      "source": [
        "list(range(10, 6, -1))"
      ],
      "metadata": {
        "colab": {
          "base_uri": "https://localhost:8080/"
        },
        "id": "YuUtjf69d44M",
        "outputId": "8032792a-a5ad-4657-df9a-697721b33f90"
      },
      "execution_count": null,
      "outputs": [
        {
          "output_type": "execute_result",
          "data": {
            "text/plain": [
              "[10, 9, 8, 7]"
            ]
          },
          "metadata": {},
          "execution_count": 45
        }
      ]
    },
    {
      "cell_type": "code",
      "source": [
        "n=5\n",
        "for i in range(0,n):\n",
        "  for j in range(0,i+1):\n",
        "    print(\"* \", end=\"\")\n",
        "  print(\"\\r\")"
      ],
      "metadata": {
        "colab": {
          "base_uri": "https://localhost:8080/"
        },
        "id": "rCEvbacggFAn",
        "outputId": "f5caa621-e333-4e46-b6c3-1c652dc24cb4"
      },
      "execution_count": null,
      "outputs": [
        {
          "output_type": "stream",
          "name": "stdout",
          "text": [
            "* \r\n",
            "* * \r\n",
            "* * * \r\n",
            "* * * * \r\n",
            "* * * * * \r\n"
          ]
        }
      ]
    },
    {
      "cell_type": "code",
      "source": [
        "a = 6\n",
        "for i in range(a):\n",
        "  print(i*\"* \")"
      ],
      "metadata": {
        "colab": {
          "base_uri": "https://localhost:8080/"
        },
        "id": "xYdKPoQ34hvc",
        "outputId": "711779b6-5e74-47fc-b68a-6e94659e7bef"
      },
      "execution_count": null,
      "outputs": [
        {
          "output_type": "stream",
          "name": "stdout",
          "text": [
            "\n",
            "* \n",
            "* * \n",
            "* * * \n",
            "* * * * \n",
            "* * * * * \n"
          ]
        }
      ]
    },
    {
      "cell_type": "code",
      "source": [
        "t = (2,2,34,4,54,5,6,778)\n",
        "for i in range(len(t)):\n",
        "  print(i, t[i])"
      ],
      "metadata": {
        "colab": {
          "base_uri": "https://localhost:8080/"
        },
        "id": "hD9S4bdogOeT",
        "outputId": "21efc1bf-9d69-47e7-953d-1e7b8df5838f"
      },
      "execution_count": null,
      "outputs": [
        {
          "output_type": "stream",
          "name": "stdout",
          "text": [
            "0 2\n",
            "1 2\n",
            "2 34\n",
            "3 4\n",
            "4 54\n",
            "5 5\n",
            "6 6\n",
            "7 778\n"
          ]
        }
      ]
    },
    {
      "cell_type": "code",
      "source": [
        "#reverse\n",
        "for i in range(len(t)-1,0-1,-1):\n",
        "  print(i, t[i])"
      ],
      "metadata": {
        "colab": {
          "base_uri": "https://localhost:8080/"
        },
        "id": "mPQaFddSlq_r",
        "outputId": "e67be1f1-6336-46aa-a164-123f380d331b"
      },
      "execution_count": null,
      "outputs": [
        {
          "output_type": "stream",
          "name": "stdout",
          "text": [
            "7 778\n",
            "6 6\n",
            "5 5\n",
            "4 54\n",
            "3 4\n",
            "2 34\n",
            "1 2\n",
            "0 2\n"
          ]
        }
      ]
    },
    {
      "cell_type": "code",
      "source": [
        "d ={\"a\":\"ssss\", \"b\":\"asssasa\", \"c\": [3,3,3,3,3,3,3], \"d\": (3,4,5,5,5), \"e\": \"ADARSH\"}"
      ],
      "metadata": {
        "id": "0Z79VMbfpZkB"
      },
      "execution_count": null,
      "outputs": []
    },
    {
      "cell_type": "code",
      "source": [
        "for i in d:\n",
        "  print(i, d[i])"
      ],
      "metadata": {
        "colab": {
          "base_uri": "https://localhost:8080/"
        },
        "id": "01v1lYnorxQf",
        "outputId": "967f6d6c-95d5-43fe-f1a5-724d873b1c25"
      },
      "execution_count": null,
      "outputs": [
        {
          "output_type": "stream",
          "name": "stdout",
          "text": [
            "a ssss\n",
            "b asssasa\n",
            "c [3, 3, 3, 3, 3, 3, 3]\n",
            "d (3, 4, 5, 5, 5)\n",
            "e ADARSH\n"
          ]
        }
      ]
    },
    {
      "cell_type": "code",
      "source": [
        "d.items()"
      ],
      "metadata": {
        "colab": {
          "base_uri": "https://localhost:8080/"
        },
        "id": "GxeXNCCssO5B",
        "outputId": "78e30098-a189-4959-9df4-15056255912a"
      },
      "execution_count": null,
      "outputs": [
        {
          "output_type": "execute_result",
          "data": {
            "text/plain": [
              "dict_items([('a', 'ssss'), ('b', 'asssasa'), ('c', [3, 3, 3, 3, 3, 3, 3]), ('d', (3, 4, 5, 5, 5)), ('e', 'ADARSH')])"
            ]
          },
          "metadata": {},
          "execution_count": 52
        }
      ]
    },
    {
      "cell_type": "code",
      "source": [
        "for i in d.items():\n",
        "  print(i)"
      ],
      "metadata": {
        "colab": {
          "base_uri": "https://localhost:8080/"
        },
        "id": "kOGpmI4SsQwg",
        "outputId": "288e3088-4988-4660-e0a7-22cf1e45df69"
      },
      "execution_count": null,
      "outputs": [
        {
          "output_type": "stream",
          "name": "stdout",
          "text": [
            "('a', 'ssss')\n",
            "('b', 'asssasa')\n",
            "('c', [3, 3, 3, 3, 3, 3, 3])\n",
            "('d', (3, 4, 5, 5, 5))\n",
            "('e', 'ADARSH')\n"
          ]
        }
      ]
    },
    {
      "cell_type": "code",
      "source": [
        "s = {32,2,2,3,5,5,67,7,43,2,3,3,45,5,56,3}"
      ],
      "metadata": {
        "id": "tgArh3clsTok"
      },
      "execution_count": null,
      "outputs": []
    },
    {
      "cell_type": "code",
      "source": [
        "for i in s:\n",
        "  print(i)"
      ],
      "metadata": {
        "colab": {
          "base_uri": "https://localhost:8080/"
        },
        "id": "VnF7GlLUsh18",
        "outputId": "ea920780-aa21-4fe6-a256-38c93a25f59c"
      },
      "execution_count": null,
      "outputs": [
        {
          "output_type": "stream",
          "name": "stdout",
          "text": [
            "32\n",
            "2\n",
            "3\n",
            "67\n",
            "5\n",
            "7\n",
            "43\n",
            "45\n",
            "56\n"
          ]
        }
      ]
    },
    {
      "cell_type": "code",
      "source": [
        "a = (1,2,3,4,5)\n",
        "for i in a :\n",
        "  pass\n",
        "print(i)"
      ],
      "metadata": {
        "colab": {
          "base_uri": "https://localhost:8080/"
        },
        "id": "S9NQ7PuPskrr",
        "outputId": "d5ee1e84-e9a3-45fc-9d79-a317d21835d1"
      },
      "execution_count": null,
      "outputs": [
        {
          "output_type": "stream",
          "name": "stdout",
          "text": [
            "5\n"
          ]
        }
      ]
    },
    {
      "cell_type": "code",
      "source": [
        "s = \"This is basic python class\"\n",
        "len(s)"
      ],
      "metadata": {
        "colab": {
          "base_uri": "https://localhost:8080/"
        },
        "id": "S9x9M1te4Njt",
        "outputId": "26e0215b-cf3a-4f7e-eeba-3f461c72f1be"
      },
      "execution_count": null,
      "outputs": [
        {
          "output_type": "execute_result",
          "data": {
            "text/plain": [
              "26"
            ]
          },
          "metadata": {},
          "execution_count": 57
        }
      ]
    },
    {
      "cell_type": "code",
      "source": [
        "#length of the function without using len\n",
        "a =0\n",
        "for i in s:\n",
        "  a = a+1\n",
        "print(a)"
      ],
      "metadata": {
        "colab": {
          "base_uri": "https://localhost:8080/"
        },
        "id": "p7XHhsk3_01Q",
        "outputId": "da262b64-6555-4455-dad3-74ba01f04739"
      },
      "execution_count": null,
      "outputs": [
        {
          "output_type": "stream",
          "name": "stdout",
          "text": [
            "26\n"
          ]
        }
      ]
    },
    {
      "cell_type": "code",
      "source": [
        " s[::-1]"
      ],
      "metadata": {
        "colab": {
          "base_uri": "https://localhost:8080/",
          "height": 35
        },
        "id": "pMfpFnl6ADn5",
        "outputId": "fd2aa680-18ab-44ec-e258-1b06ce34e169"
      },
      "execution_count": null,
      "outputs": [
        {
          "output_type": "execute_result",
          "data": {
            "text/plain": [
              "'ssalc nohtyp cisab si sihT'"
            ],
            "application/vnd.google.colaboratory.intrinsic+json": {
              "type": "string"
            }
          },
          "metadata": {},
          "execution_count": 59
        }
      ]
    },
    {
      "cell_type": "code",
      "source": [
        "i=len(s)-1\n",
        "while i>=0:\n",
        "  print(s[i], end= \"\")\n",
        "  i=i-1\n"
      ],
      "metadata": {
        "colab": {
          "base_uri": "https://localhost:8080/"
        },
        "id": "e0LLBdYIAxUu",
        "outputId": "9b42beb9-7769-43f5-c37c-f2da1f44b71c"
      },
      "execution_count": null,
      "outputs": [
        {
          "output_type": "stream",
          "name": "stdout",
          "text": [
            "ssalc nohtyp cisab si sihT"
          ]
        }
      ]
    },
    {
      "cell_type": "code",
      "source": [
        "i=-1\n",
        "while abs(i)<=len(s):\n",
        "  print(s[i], end = \"\")\n",
        "  i=i-1"
      ],
      "metadata": {
        "colab": {
          "base_uri": "https://localhost:8080/"
        },
        "id": "erCyUpgWBB2q",
        "outputId": "21809924-6537-475e-87a2-f4860c302754"
      },
      "execution_count": null,
      "outputs": [
        {
          "output_type": "stream",
          "name": "stdout",
          "text": [
            "ssalc nohtyp cisab si sihT"
          ]
        }
      ]
    },
    {
      "cell_type": "code",
      "source": [
        "v = \"ineuron\"\n",
        "m = \"AaEeIiOoUu\"\n",
        "\n",
        "for i in v:\n",
        "  if i in m:\n",
        "    print(\"vowel\", i)\n",
        "  else:\n",
        "    print(\"not vowel\", i)"
      ],
      "metadata": {
        "colab": {
          "base_uri": "https://localhost:8080/"
        },
        "id": "IOQ2lBiMCw7s",
        "outputId": "b7395bf5-4c1f-4b82-e2aa-1d9a3bdf4796"
      },
      "execution_count": null,
      "outputs": [
        {
          "output_type": "stream",
          "name": "stdout",
          "text": [
            "vowel i\n",
            "not vowel n\n",
            "vowel e\n",
            "vowel u\n",
            "not vowel r\n",
            "vowel o\n",
            "not vowel n\n"
          ]
        }
      ]
    },
    {
      "cell_type": "code",
      "source": [
        "\"a\" in \"adarsh\""
      ],
      "metadata": {
        "colab": {
          "base_uri": "https://localhost:8080/"
        },
        "id": "5I8fFAKoNPi-",
        "outputId": "d842560f-5d42-4a7d-9e9d-cde339a38996"
      },
      "execution_count": null,
      "outputs": [
        {
          "output_type": "execute_result",
          "data": {
            "text/plain": [
              "True"
            ]
          },
          "metadata": {},
          "execution_count": 63
        }
      ]
    },
    {
      "cell_type": "code",
      "source": [
        "#find palindrome\n",
        "z = input()\n",
        "if z== z[::-1]:\n",
        "  print(\"Palindrome\")\n",
        "else:\n",
        "  print(\"its not\")"
      ],
      "metadata": {
        "id": "zFQJzYUzO5mu",
        "colab": {
          "base_uri": "https://localhost:8080/"
        },
        "outputId": "4dbcecbb-652b-4829-846a-834ae4877b8a"
      },
      "execution_count": null,
      "outputs": [
        {
          "output_type": "stream",
          "name": "stdout",
          "text": [
            "malayalam\n",
            "Palindrome\n"
          ]
        }
      ]
    },
    {
      "cell_type": "code",
      "source": [
        "k = z[::-1]\n",
        "if k==z:\n",
        "  print(\"yes\")\n",
        "else:\n",
        "  print (\"no\")"
      ],
      "metadata": {
        "id": "ed7VuUj3QgZO",
        "colab": {
          "base_uri": "https://localhost:8080/"
        },
        "outputId": "48f3ded4-37fb-423e-9444-3d94f2211dc9"
      },
      "execution_count": null,
      "outputs": [
        {
          "output_type": "stream",
          "name": "stdout",
          "text": [
            "yes\n"
          ]
        }
      ]
    },
    {
      "cell_type": "code",
      "source": [
        "for i in range(len(z)):\n",
        "  if z[i]==z[len(z)-1-i]:\n",
        "    print(\"Palindrome\")\n",
        "    break\n",
        "else:\n",
        "  print(\"not a palindrome\")"
      ],
      "metadata": {
        "id": "vU9l0B0ZRqD0",
        "colab": {
          "base_uri": "https://localhost:8080/"
        },
        "outputId": "edd1ccbc-3232-4f19-bba5-d1dab41d2f55"
      },
      "execution_count": null,
      "outputs": [
        {
          "output_type": "stream",
          "name": "stdout",
          "text": [
            "Palindrome\n"
          ]
        }
      ]
    },
    {
      "cell_type": "code",
      "source": [
        "d= {\"india\":\"IN\", \"Canada\": \"CA\", \"china\":\"CH\", \"United state\": \"US\" }\n"
      ],
      "metadata": {
        "id": "XvMmoEDsP_3q"
      },
      "execution_count": null,
      "outputs": []
    },
    {
      "cell_type": "code",
      "source": [
        "l1=[]\n",
        "l2=[]\n",
        "for i in d : # i in d will evaluate keys and not values\n",
        "  if len(i)<=5:\n",
        "    l1.append(i)\n",
        "  else:\n",
        "    l2.append(i)\n",
        "print(l1,l2)"
      ],
      "metadata": {
        "id": "QHNSxs50OuAn",
        "colab": {
          "base_uri": "https://localhost:8080/"
        },
        "outputId": "ffb9104f-61f6-47af-ace5-15fa338fe468"
      },
      "execution_count": null,
      "outputs": [
        {
          "output_type": "stream",
          "name": "stdout",
          "text": [
            "['india', 'china'] ['Canada', 'United state']\n"
          ]
        }
      ]
    },
    {
      "cell_type": "code",
      "source": [
        "d1 = {\"ineuron\":{\"a\": 14, \"b\": 10, \"c\": 4} ,\n",
        "       \"course\" :{\"d\": 45, \"e\" :34, \"f\": 1}\n",
        "       }"
      ],
      "metadata": {
        "id": "STRp3-4xaSZQ"
      },
      "execution_count": null,
      "outputs": []
    },
    {
      "cell_type": "code",
      "source": [
        "l3=d1.values()\n",
        "temp=0\n",
        "for i in l3:\n",
        "  for j in i.values():\n",
        "    if j>temp:\n",
        "      temp = j\n",
        "    else:\n",
        "      continue\n",
        "  print(temp)"
      ],
      "metadata": {
        "id": "Nhvip9gkiH1S",
        "colab": {
          "base_uri": "https://localhost:8080/"
        },
        "outputId": "4efb2a8e-5037-4cfe-c8e3-261c53cf681e"
      },
      "execution_count": null,
      "outputs": [
        {
          "output_type": "stream",
          "name": "stdout",
          "text": [
            "14\n",
            "45\n"
          ]
        }
      ]
    },
    {
      "cell_type": "code",
      "source": [
        "lst=[]\n",
        "for i in d1.values():\n",
        "  for j in i.values():\n",
        "    lst.append(j)\n",
        "  print(max(lst))"
      ],
      "metadata": {
        "id": "r9WPyjYFiVa6",
        "colab": {
          "base_uri": "https://localhost:8080/"
        },
        "outputId": "74ae3a99-98cc-44f4-a87e-7b0d7fcc691c"
      },
      "execution_count": null,
      "outputs": [
        {
          "output_type": "stream",
          "name": "stdout",
          "text": [
            "14\n",
            "45\n"
          ]
        }
      ]
    },
    {
      "cell_type": "code",
      "source": [
        "for i in d1.values():\n",
        "  print(max(i.values()))"
      ],
      "metadata": {
        "id": "XU_-_PCnnTLK",
        "colab": {
          "base_uri": "https://localhost:8080/"
        },
        "outputId": "9441333b-cae1-4cb0-9cdc-7b17c1d79ca9"
      },
      "execution_count": null,
      "outputs": [
        {
          "output_type": "stream",
          "name": "stdout",
          "text": [
            "14\n",
            "45\n"
          ]
        }
      ]
    },
    {
      "cell_type": "code",
      "source": [
        "o = {\"ineuron\":{\"a\":14, \"b\":45, \"c\":4 ,\"d\": 44, \"e\": 333, \"r\":77},\n",
        "     \"course\":{\"v\":23, \"w\":43, \"t\": 33}, \"g\": 566, \"h\": [73,34,23,23],\n",
        "     'i': (34,4,34,34,544), \"k\":\"ADARSH\", \"l\": 334s}"
      ],
      "metadata": {
        "id": "Czoa_LKenojo"
      },
      "execution_count": null,
      "outputs": []
    },
    {
      "cell_type": "code",
      "source": [
        "lst1=[]\n",
        "for i in o.values():\n",
        "  if type(i)==dict:\n",
        "    for j in i.values():\n",
        "      lst1.append(j)\n",
        "  elif type(i)==list or type(i)==set or type(i)==tuple :\n",
        "    lst1+=list(i)\n",
        "  elif type(i)==int:\n",
        "    lst1.append(i)\n",
        "  else:\n",
        "    pass\n",
        "print(max(lst1))"
      ],
      "metadata": {
        "id": "Q0lM3H3Xl0II",
        "colab": {
          "base_uri": "https://localhost:8080/"
        },
        "outputId": "4ff3c45d-9dd8-4856-adf0-1a0d83ef8afb"
      },
      "execution_count": null,
      "outputs": [
        {
          "output_type": "stream",
          "name": "stdout",
          "text": [
            "3342\n"
          ]
        }
      ]
    },
    {
      "cell_type": "code",
      "source": [
        "# prompt: write a code to print * pyramid based on user input of row numbers\n",
        "\n",
        "n = int(input(\"Enter number of rows: \"))\n",
        "for i in range(n):\n",
        "  for j in range(n-i-1):\n",
        "    print(\" \", end=\"\")\n",
        "  for j in range(i+1):\n",
        "    print(\"* \", end=\"\")\n",
        "  print()\n"
      ],
      "metadata": {
        "id": "YykzZ-Klk9KE",
        "colab": {
          "base_uri": "https://localhost:8080/"
        },
        "outputId": "4dad1d87-454f-4729-f777-46e3c2bffa63"
      },
      "execution_count": 1,
      "outputs": [
        {
          "output_type": "stream",
          "name": "stdout",
          "text": [
            "Enter number of rows: 4\n",
            "   * \n",
            "  * * \n",
            " * * * \n",
            "* * * * \n"
          ]
        }
      ]
    }
  ]
}